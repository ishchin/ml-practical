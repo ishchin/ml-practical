{
 "cells": [
  {
   "cell_type": "code",
   "execution_count": 1,
   "id": "cd91a5eb-fa1a-4e2c-b3e4-d62f0aff2c9a",
   "metadata": {},
   "outputs": [
    {
     "name": "stdout",
     "output_type": "stream",
     "text": [
      "Dictionary:\n",
      "{'Name': ['Alice', 'Bob', 'Charlie'], 'Age': [24, 22, 23], 'Score': [85.5, 90.0, 88.5]}\n",
      "\n",
      "List of Tuples:\n",
      "[('Alice', 24, 85.5), ('Bob', 22, 90.0), ('Charlie', 23, 88.5)]\n",
      "\n",
      "NumPy Array:\n",
      "[['Alice' '24' '85.5']\n",
      " ['Bob' '22' '90.0']\n",
      " ['Charlie' '23' '88.5']]\n",
      "\n",
      "Pandas DataFrame:\n",
      "      Name  Age  Score\n",
      "0    Alice   24   85.5\n",
      "1      Bob   22   90.0\n",
      "2  Charlie   23   88.5\n",
      "\n",
      "Descriptive Statistics:\n",
      "        Age      Score\n",
      "count   3.0   3.000000\n",
      "mean   23.0  88.000000\n",
      "std     1.0   2.291288\n",
      "min    22.0  85.500000\n",
      "25%    22.5  87.000000\n",
      "50%    23.0  88.500000\n",
      "75%    23.5  89.250000\n",
      "max    24.0  90.000000\n"
     ]
    }
   ],
   "source": [
    "# Step 1: Import necessary libraries\n",
    "import numpy as np\n",
    "import pandas as pd\n",
    "\n",
    "# Step 2: Python Dictionary\n",
    "# Creating a dictionary to store sample student data\n",
    "student_dict = {\n",
    "    'Name': ['Alice', 'Bob', 'Charlie'],\n",
    "    'Age': [24, 22, 23],\n",
    "    'Score': [85.5, 90.0, 88.5]\n",
    "}\n",
    "print(\"Dictionary:\")\n",
    "print(student_dict)\n",
    "\n",
    "# Step 3: Convert Dictionary to List\n",
    "# Creating list of tuples from dictionary\n",
    "student_list = list(zip(student_dict['Name'], student_dict['Age'], student_dict['Score']))\n",
    "print(\"\\nList of Tuples:\")\n",
    "print(student_list)\n",
    "\n",
    "# Step 4: Convert List to NumPy Array\n",
    "student_array = np.array(student_list)\n",
    "print(\"\\nNumPy Array:\")\n",
    "print(student_array)\n",
    "\n",
    "# Step 5: Convert Dictionary to Pandas DataFrame\n",
    "student_df = pd.DataFrame(student_dict)\n",
    "print(\"\\nPandas DataFrame:\")\n",
    "print(student_df)\n",
    "\n",
    "# Step 6: Display summary statistics (basic ML preprocessing)\n",
    "print(\"\\nDescriptive Statistics:\")\n",
    "print(student_df.describe())\n"
   ]
  },
  {
   "cell_type": "code",
   "execution_count": null,
   "id": "c6806554-5d6d-4407-b733-7457424ada58",
   "metadata": {},
   "outputs": [],
   "source": []
  },
  {
   "cell_type": "code",
   "execution_count": null,
   "id": "10565142-a7a8-4bd2-bd7b-fcfdfe87bcd9",
   "metadata": {},
   "outputs": [],
   "source": []
  }
 ],
 "metadata": {
  "kernelspec": {
   "display_name": "Python [conda env:base] *",
   "language": "python",
   "name": "conda-base-py"
  },
  "language_info": {
   "codemirror_mode": {
    "name": "ipython",
    "version": 3
   },
   "file_extension": ".py",
   "mimetype": "text/x-python",
   "name": "python",
   "nbconvert_exporter": "python",
   "pygments_lexer": "ipython3",
   "version": "3.12.7"
  }
 },
 "nbformat": 4,
 "nbformat_minor": 5
}
